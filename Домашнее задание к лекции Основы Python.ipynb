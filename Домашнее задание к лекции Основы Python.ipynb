{
 "cells": [
  {
   "cell_type": "markdown",
   "metadata": {},
   "source": [
    "# ДЗ №1"
   ]
  },
  {
   "cell_type": "markdown",
   "metadata": {},
   "source": [
    "## Work 1"
   ]
  },
  {
   "cell_type": "code",
   "execution_count": 12,
   "metadata": {},
   "outputs": [
    {
     "name": "stdout",
     "output_type": "stream",
     "text": [
      "Фраза 2 длиннее фразы 1\n"
     ]
    }
   ],
   "source": [
    "phrase_1 = '640Кб должно хватить для любых задач. Билл Гейтс (по легенде)1'\n",
    "phrase_2 = '640Кб должно хватить для любых задач. Билл Гейтс (по легенде)22'\n",
    "if len(phrase_1)>len(phrase_2):\n",
    "    print('Фраза 1 длиннее фразы 2')\n",
    "elif phrase_1==phrase_2:\n",
    "    print('Фразы равной длины')\n",
    "else: print('Фраза 2 длиннее фразы 1')"
   ]
  },
  {
   "cell_type": "markdown",
   "metadata": {},
   "source": [
    "## Work 2"
   ]
  },
  {
   "cell_type": "code",
   "execution_count": 14,
   "metadata": {},
   "outputs": [
    {
     "name": "stdout",
     "output_type": "stream",
     "text": [
      "Результат: Обычный год\n"
     ]
    }
   ],
   "source": [
    "year=2019\n",
    "if year%4==0:\n",
    "    print('Результат: Високосный год')\n",
    "else: print('Результат: Обычный год')"
   ]
  },
  {
   "cell_type": "markdown",
   "metadata": {},
   "source": [
    "## Work 3"
   ]
  },
  {
   "cell_type": "code",
   "execution_count": 30,
   "metadata": {},
   "outputs": [
    {
     "name": "stdout",
     "output_type": "stream",
     "text": [
      "Введите день - 8\n",
      "Введите месяц - February\n",
      "Результат: Vodolei\n"
     ]
    }
   ],
   "source": [
    "input_1=int(input('Введите день - '))\n",
    "input_2=str(input('Введите месяц - '))\n",
    "if input_1>20 and input_2==str('March'):\n",
    "    print('Результат: Oven')\n",
    "elif input_1<=20 and input_2==str('April'):\n",
    "    print('Результат: Oven')\n",
    "if input_1>20 and input_2==str('April'):\n",
    "    print('Результат: Telec')\n",
    "elif input_1<=20 and input_2==str('May'):\n",
    "    print('Результат: Telec')\n",
    "if input_1>20 and input_2==str('May'):\n",
    "    print('Результат: Blizneci')\n",
    "elif input_1<=21 and input_2==str('June'):\n",
    "    print('Результат: Blizneci')\n",
    "if input_1>22 and input_2==str('June'):\n",
    "    print('Результат: Rak')\n",
    "elif input_1<=22 and input_2==str('July'):\n",
    "    print('Результат: Rak')\n",
    "if input_1>23 and input_2==str('July'):\n",
    "    print('Результат: Lev')\n",
    "elif input_1<=23 and input_2==str('August'):\n",
    "    print('Результат: Lev')\n",
    "if input_1>24 and input_2==str('August'):\n",
    "    print('Результат: Deva')\n",
    "elif input_1<=23 and input_2==str('September'):\n",
    "    print('Результат: Deva')\n",
    "if input_1>24 and input_2==str('September'):\n",
    "    print('Результат: Vesi')\n",
    "elif input_1<=23 and input_2==str('October'):\n",
    "    print('Результат: Vesi')\n",
    "if input_1>24 and input_2==str('October'):\n",
    "    print('Результат: Scorpion')\n",
    "elif input_1<=22 and input_2==str('November'):\n",
    "    print('Результат: Scorpion')\n",
    "if input_1>23 and input_2==str('November'):\n",
    "    print('Результат: Strelec')\n",
    "elif input_1<=21 and input_2==str('December'):\n",
    "    print('Результат: Strelec')\n",
    "if input_1>22 and input_2==str('December'):\n",
    "    print('Результат: Kozerog')\n",
    "elif input_1<=20 and input_2==str('January'):\n",
    "    print('Результат: Kozerog')\n",
    "if input_1>21 and input_2==str('January'):\n",
    "    print('Результат: Vodolei')\n",
    "elif input_1<=20 and input_2==str('February'):\n",
    "    print('Результат: Vodolei')\n",
    "if input_1>21 and input_2==str('February'):\n",
    "    print('Результат: Ribi')\n",
    "elif input_1<=20 and input_2==str('March'):\n",
    "    print('Результат: Ribi')"
   ]
  },
  {
   "cell_type": "markdown",
   "metadata": {},
   "source": [
    "## Work 4"
   ]
  },
  {
   "cell_type": "code",
   "execution_count": 44,
   "metadata": {},
   "outputs": [
    {
     "name": "stdout",
     "output_type": "stream",
     "text": [
      "Upakovka dlya lig\n"
     ]
    }
   ],
   "source": [
    "width = 16\n",
    "length = 202\n",
    "height = 5\n",
    "if width>15 and length>15 and height>15:\n",
    "    print('Korobka #1')\n",
    "elif width>15<50 and length>200 or height>15<50 and length>200:\n",
    "    print('Upakovka dlya lig')\n",
    "elif width>15<50 or length>15<50 or height>15<50:\n",
    "    print('Korobka #2')\n",
    "elif length>=200:\n",
    "    print('Upakovka dlya lig')\n",
    "else: print('Standartnaya upakovka')"
   ]
  },
  {
   "cell_type": "markdown",
   "metadata": {},
   "source": [
    "## Work 5"
   ]
  },
  {
   "cell_type": "code",
   "execution_count": 67,
   "metadata": {},
   "outputs": [
    {
     "name": "stdout",
     "output_type": "stream",
     "text": [
      "123312\n",
      "Счастливый\n"
     ]
    }
   ],
   "source": [
    "a = int(input())\n",
    "\n",
    "b = a//1000\n",
    "\n",
    "one = b // 100\n",
    "two = b // 10 % 10    \n",
    "three = b % 10\n",
    "\n",
    "c = a % 1000\n",
    "\n",
    "four = c // 100\n",
    "five = c // 10 % 10\n",
    "six = c % 10\n",
    "\n",
    "if (one+two+three)==(four+five+six):\n",
    "    print ('Счастливый')\n",
    "else:\n",
    "    print ('Обычный')"
   ]
  },
  {
   "cell_type": "markdown",
   "metadata": {},
   "source": [
    "### Work 6"
   ]
  },
  {
   "cell_type": "code",
   "execution_count": 3,
   "metadata": {},
   "outputs": [
    {
     "name": "stdout",
     "output_type": "stream",
     "text": [
      "VVedite tip figuri - Ugolnik\n",
      "Vvedite A - 10\n",
      "Vvedite A - 10\n",
      "Ploshad -  100\n"
     ]
    }
   ],
   "source": [
    "p=3.14\n",
    "type=str(input('VVedite tip figuri - '))\n",
    "if type==('Krug'):\n",
    "    krugl=int(input('Vvedite radius Kruga - '))\n",
    "    krug_itog=p*krugl*krugl\n",
    "    print('Ploshad - ', krug_itog)\n",
    "elif type==('Treugol'):\n",
    "    a=int(input('Vvedite A - '))\n",
    "    b=int(input('Vvedite B - '))\n",
    "    c=int(input('Vvedite C - '))\n",
    "    perimetr=(a+b+c)/2\n",
    "    koren=(perimetr*(perimetr-a)*(perimetr-b)*(perimetr-c))\n",
    "    treugol_itog=koren**0.5\n",
    "    print('Ploshad - ', treugol_itog)\n",
    "elif type==('Ugolnik'):\n",
    "    aa=int(input('Vvedite A - '))\n",
    "    bb=int(input('Vvedite B - '))\n",
    "    ugolnik_itog=aa*bb\n",
    "    print('Ploshad - ', ugolnik_itog)"
   ]
  },
  {
   "cell_type": "raw",
   "metadata": {},
   "source": []
  }
 ],
 "metadata": {
  "kernelspec": {
   "display_name": "Python 3",
   "language": "python",
   "name": "python3"
  },
  "language_info": {
   "codemirror_mode": {
    "name": "ipython",
    "version": 3
   },
   "file_extension": ".py",
   "mimetype": "text/x-python",
   "name": "python",
   "nbconvert_exporter": "python",
   "pygments_lexer": "ipython3",
   "version": "3.8.5"
  }
 },
 "nbformat": 4,
 "nbformat_minor": 4
}

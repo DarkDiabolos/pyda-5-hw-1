{
 "cells": [
  {
   "cell_type": "markdown",
   "metadata": {},
   "source": [
    "# ДЗ №2"
   ]
  },
  {
   "cell_type": "markdown",
   "metadata": {},
   "source": [
    "## Work 1"
   ]
  },
  {
   "cell_type": "code",
   "execution_count": null,
   "metadata": {},
   "outputs": [],
   "source": [
    "a=str(input('Введите переменную '))\n",
    "l=len(a)\n",
    "if len(a)%2==0:\n",
    "    b=a[0:l//2]\n",
    "    c=a[l//2:]\n",
    "    print(f'{b[-1]}{c[0]}')\n",
    "elif len(a)%2!=0:\n",
    "    l=len(a)+1\n",
    "    d=a[0:l//2]\n",
    "    print(d[-1])"
   ]
  },
  {
   "cell_type": "markdown",
   "metadata": {},
   "source": [
    "## Work 2"
   ]
  },
  {
   "cell_type": "code",
   "execution_count": 34,
   "metadata": {},
   "outputs": [
    {
     "name": "stdout",
     "output_type": "stream",
     "text": [
      "Введите число - 12\n",
      "Vi vveli -  12\n",
      "Введите число - 2\n",
      "Vi vveli -  2\n",
      "Введите число - 3\n",
      "Vi vveli -  3\n",
      "Введите число - 4\n",
      "Vi vveli -  4\n",
      "Введите число - 0\n",
      "Summa -  21\n"
     ]
    }
   ],
   "source": [
    "c=2\n",
    "b=int()\n",
    "while c>0:\n",
    "    a=int(input('Введите число - '))\n",
    "    if a==0:\n",
    "        print('Summa - ',b)\n",
    "        break\n",
    "    else:\n",
    "        b=a+b\n",
    "        print('Vi vveli - ',a)"
   ]
  },
  {
   "cell_type": "markdown",
   "metadata": {},
   "source": [
    "## Work 3"
   ]
  },
  {
   "cell_type": "code",
   "execution_count": 35,
   "metadata": {},
   "outputs": [
    {
     "name": "stdout",
     "output_type": "stream",
     "text": [
      "[('Alex', 'Emma'), ('Arthur', 'Kate'), ('John', 'Kira'), ('Peter', 'Liza'), ('Richard', 'Trisha')]\n"
     ]
    }
   ],
   "source": [
    "c=3\n",
    "boys=['Peter', 'Alex', 'John', 'Arthur', 'Richard']\n",
    "girls=['Kate', 'Liza', 'Kira', 'Emma', 'Trisha']\n",
    "sort_boys=len(boys)\n",
    "sort_girls=len(girls)\n",
    "\n",
    "boys.sort()\n",
    "girls.sort()\n",
    "\n",
    "while c!=0:\n",
    "    if sort_boys==sort_girls:\n",
    "        boys_girls=zip(boys, girls)\n",
    "        exit=list(boys_girls)\n",
    "        c=0\n",
    "        print(exit)\n",
    "    else:\n",
    "        c=0\n",
    "        print('Внимание, кто-то может остаться без пары!')"
   ]
  },
  {
   "cell_type": "markdown",
   "metadata": {},
   "source": [
    "## Work 3 (copy)"
   ]
  },
  {
   "cell_type": "code",
   "execution_count": 7,
   "metadata": {},
   "outputs": [
    {
     "name": "stdout",
     "output_type": "stream",
     "text": [
      "Alex + Emma\n",
      "Arthur + Kate\n",
      "John + Kira\n",
      "Peter + Liza\n",
      "Richard + Trisha\n"
     ]
    }
   ],
   "source": [
    "boys=['Peter', 'Alex', 'John', 'Arthur', 'Richard']\n",
    "girls=['Kate', 'Liza', 'Kira', 'Emma', 'Trisha']\n",
    "sort_boys=len(boys)\n",
    "sort_girls=len(girls)\n",
    "boys.sort()\n",
    "girls.sort()\n",
    "\n",
    "f=0\n",
    "c=0\n",
    "\n",
    "while c!=sort_boys:\n",
    "    if sort_boys==sort_girls:\n",
    "        print(''.join(boys[f]),'+',''.join(girls[f]))\n",
    "        f=f+1\n",
    "        c=c+1\n",
    "    else:\n",
    "        c=sort_boys\n",
    "        print('Внимание, кто-то может остаться без пары!')"
   ]
  },
  {
   "cell_type": "markdown",
   "metadata": {},
   "source": [
    "## Work 4"
   ]
  },
  {
   "cell_type": "code",
   "execution_count": 49,
   "metadata": {},
   "outputs": [
    {
     "name": "stdout",
     "output_type": "stream",
     "text": [
      "Средняя температура в странах: \n",
      "Thailand - 23.3 C\n",
      "Germany - 13.3 C\n",
      "Russia - 3.3 C\n",
      "Poland - 11.7 C\n"
     ]
    }
   ],
   "source": [
    "countries_temperature = [\n",
    "    ['Thailand', [75.2, 77, 78.8, 73.4, 68, 75.2, 77]],\n",
    "    ['Germany', [57.2, 55.4, 59, 59, 53.6]],\n",
    "    ['Russia', [35.6, 37.4, 39.2, 41, 42.8, 39.2, 35.6]],\n",
    "    ['Poland', [50, 50, 53.6, 57.2, 55.4, 55.4]]\n",
    "]\n",
    "\n",
    "vse=len(countries_temperature)\n",
    "c=0\n",
    "f=0\n",
    "\n",
    "print('Средняя температура в странах: ')\n",
    "while c!=vse:\n",
    "    summa=countries_temperature[f]\n",
    "    kolvo=len(summa[1])\n",
    "    result=sum(summa[1])//kolvo\n",
    "    itog=round(0.55555*(result-32),1)\n",
    "    print(''.join(summa[0]),'-', str(itog), 'C')\n",
    "    c=c+1\n",
    "    f=f+1\n",
    "    "
   ]
  },
  {
   "cell_type": "markdown",
   "metadata": {},
   "source": [
    "## Work 5"
   ]
  },
  {
   "cell_type": "code",
   "execution_count": 9,
   "metadata": {},
   "outputs": [
    {
     "name": "stdout",
     "output_type": "stream",
     "text": [
      "Среднее количество просмотров на уникального пользователя: \n",
      "23.25\n"
     ]
    }
   ],
   "source": [
    "stream = [\n",
    "    '2018-01-01,user1,3',\n",
    "    '2018-01-07,user1,4',\n",
    "    '2018-03-29,user1,1',\n",
    "    '2018-04-04,user1,13',\n",
    "    '2018-01-05,user2,7',\n",
    "    '2018-06-14,user3,4',\n",
    "    '2018-07-02,user3,10',\n",
    "    '2018-03-21,user4,19',\n",
    "    '2018-03-22,user4,4',\n",
    "    '2018-04-22,user4,8',\n",
    "    '2018-05-03,user4,9',\n",
    "    '2018-05-11,user4,11',\n",
    "]\n",
    "\n",
    "vsego=len(stream)\n",
    "c=0\n",
    "f=0\n",
    "\n",
    "d=0\n",
    "e=0\n",
    "summarno=0\n",
    "\n",
    "print('Среднее количество просмотров на уникального пользователя: ')\n",
    "while c!=vsego:\n",
    "    big=stream[f]\n",
    "    vivod=big.split(',')[1]\n",
    "    vse=vivod[4]\n",
    "    c=c+1\n",
    "    f=f+1\n",
    "maksimum=int(''.join(max(vse)))\n",
    "\n",
    "while d!=vsego:\n",
    "    big2=stream[e]\n",
    "    vivod2=int(big2.split(',')[2])\n",
    "    summarno=int(vivod2+summarno)\n",
    "    d=d+1\n",
    "    e=e+1\n",
    "itogo=(summarno/maksimum)\n",
    "print(float(itogo))"
   ]
  },
  {
   "cell_type": "markdown",
   "metadata": {},
   "source": [
    "## Work 6"
   ]
  },
  {
   "cell_type": "code",
   "execution_count": 16,
   "metadata": {},
   "outputs": [
    {
     "name": "stdout",
     "output_type": "stream",
     "text": [
      "Введите переменные через пробел: 2 3 4 2 2\n",
      "2\n",
      "2\n"
     ]
    }
   ],
   "source": [
    "vvod=input('Введите переменные через пробел: ')\n",
    "razdel=vvod.split(' ')\n",
    "vsego=len(razdel)\n",
    "\n",
    "a=0\n",
    "f=0\n",
    "gg=0\n",
    "x=razdel[f]\n",
    "\n",
    "while a!=vsego:\n",
    "    if x in razdel:\n",
    "        gg=razdel.index(x)\n",
    "        del(razdel[gg])\n",
    "        if x in razdel:\n",
    "            print(x)\n",
    "            f=f+1\n",
    "        else:\n",
    "            f=f+1\n",
    "    else:\n",
    "        f=f+1\n",
    "    a=a+1"
   ]
  },
  {
   "cell_type": "code",
   "execution_count": null,
   "metadata": {},
   "outputs": [],
   "source": []
  }
 ],
 "metadata": {
  "kernelspec": {
   "display_name": "Python 3",
   "language": "python",
   "name": "python3"
  },
  "language_info": {
   "codemirror_mode": {
    "name": "ipython",
    "version": 3
   },
   "file_extension": ".py",
   "mimetype": "text/x-python",
   "name": "python",
   "nbconvert_exporter": "python",
   "pygments_lexer": "ipython3",
   "version": "3.8.5"
  }
 },
 "nbformat": 4,
 "nbformat_minor": 4
}

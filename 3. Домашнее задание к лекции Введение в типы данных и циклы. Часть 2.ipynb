{
 "cells": [
  {
   "cell_type": "markdown",
   "metadata": {},
   "source": [
    "## Work 1"
   ]
  },
  {
   "cell_type": "code",
   "execution_count": 54,
   "metadata": {},
   "outputs": [
    {
     "name": "stdout",
     "output_type": "stream",
     "text": [
      "{98, 35, 15, 213, 54, 119}\n"
     ]
    }
   ],
   "source": [
    "ids = {'user1': [213, 213, 213, 15, 213], \n",
    "       'user2': [54, 54, 119, 119, 119], \n",
    "       'user3': [213, 98, 98, 35]}\n",
    "\n",
    "vse=()\n",
    "all=()\n",
    "\n",
    "for item in ids.values():\n",
    "    vse=set(item)\n",
    "    all=all+tuple(vse)\n",
    "\n",
    "print(set(list(all)))"
   ]
  },
  {
   "cell_type": "markdown",
   "metadata": {},
   "source": [
    "## Work 2"
   ]
  },
  {
   "cell_type": "code",
   "execution_count": 99,
   "metadata": {},
   "outputs": [
    {
     "name": "stdout",
     "output_type": "stream",
     "text": [
      "Поисковых запросов, содержащих 2 слов(а):  42.86 %\n",
      "Поисковых запросов, содержащих 3 слов(а):  57.14 %\n"
     ]
    }
   ],
   "source": [
    "queries = [\n",
    "    'смотреть сериалы онлайн',\n",
    "    'новости спорта',\n",
    "    'афиша кино',\n",
    "    'курс доллара',\n",
    "    'сериалы этим летом',\n",
    "    'курс по питону',\n",
    "    'сериалы про спорт',\n",
    "]\n",
    "\n",
    "f=0\n",
    "odin=0\n",
    "dva=0\n",
    "\n",
    "for item in queries:\n",
    "    if item.count(' ') == 1:\n",
    "        odin=odin+1\n",
    "    else:\n",
    "        dva=dva+1\n",
    "        \n",
    "f=odin+dva\n",
    "res1=-(100*(dva-f)/f)\n",
    "res2=-(100*(odin-f)/f)\n",
    "\n",
    "print('Поисковых запросов, содержащих 2 слов(а): ', round(res1, 2),'%')\n",
    "print('Поисковых запросов, содержащих 3 слов(а): ', round(res2, 2),'%')"
   ]
  },
  {
   "cell_type": "markdown",
   "metadata": {},
   "source": [
    "## Work 3"
   ]
  },
  {
   "cell_type": "code",
   "execution_count": 110,
   "metadata": {},
   "outputs": [
    {
     "name": "stdout",
     "output_type": "stream",
     "text": [
      "{'vk': {'revenue': 103, 'cost': 98, 'ROI': 5.1}, 'yandex': {'revenue': 179, 'cost': 153, 'ROI': 16.99}, 'facebook': {'revenue': 103, 'cost': 110, 'ROI': -6.36}, 'adwords': {'revenue': 35, 'cost': 34, 'ROI': 2.94}, 'twitter': {'revenue': 11, 'cost': 24, 'ROI': -54.17}}\n"
     ]
    }
   ],
   "source": [
    "results = {\n",
    "    'vk': {'revenue': 103, 'cost': 98},\n",
    "    'yandex': {'revenue': 179, 'cost': 153},\n",
    "    'facebook': {'revenue': 103, 'cost': 110},\n",
    "    'adwords': {'revenue': 35, 'cost': 34},\n",
    "    'twitter': {'revenue': 11, 'cost': 24},\n",
    "}\n",
    "\n",
    "for key, value in results.items():\n",
    "    b=value.setdefault('ROI', round((value['revenue']/value['cost']-1)*100, 2))\n",
    "print(results)"
   ]
  },
  {
   "cell_type": "markdown",
   "metadata": {},
   "source": [
    "## Work 4"
   ]
  },
  {
   "cell_type": "code",
   "execution_count": 9,
   "metadata": {},
   "outputs": [
    {
     "name": "stdout",
     "output_type": "stream",
     "text": [
      "Максимальный объем продаж на рекламном канале:  vk\n"
     ]
    }
   ],
   "source": [
    "stats = {'facebook': 55, 'yandex': 115, 'vk': 120, 'google': 99, 'email': 42, 'ok': 98}\n",
    "\n",
    "b=0\n",
    "c=str()\n",
    "\n",
    "for key, value in stats.items():\n",
    "    if value>b:\n",
    "        b=value\n",
    "        c=key\n",
    "print('Максимальный объем продаж на рекламном канале: ', c)"
   ]
  },
  {
   "cell_type": "markdown",
   "metadata": {},
   "source": [
    "## Work 5"
   ]
  },
  {
   "cell_type": "code",
   "execution_count": 165,
   "metadata": {},
   "outputs": [
    {
     "name": "stdout",
     "output_type": "stream",
     "text": [
      "{\"['yandex']\": {'cpc': 100}}\n",
      "{\"['2018-01-01']\": {'yandex': 'cpc', 'cpc': 100}}\n",
      "{'[]': {'2018-01-01': 'yandex', 'yandex': 'cpc', 'cpc': 100}}\n",
      "{'[]': {'2018-01-01': '2018-01-01', 'yandex': 'yandex', 'cpc': 'cpc', 100: 100}}\n"
     ]
    }
   ],
   "source": [
    "my_list = ['2018-01-01', 'yandex', 'cpc', 100]\n",
    "\n",
    "x=0\n",
    "c=-1\n",
    "v=-2\n",
    "d=-3\n",
    "z=dict()\n",
    "f=len(my_list)\n",
    "slovar={}\n",
    "spi=str()\n",
    "\n",
    "while x<f:\n",
    "    enumerate(my_list)\n",
    "    lolka=my_list[c:]\n",
    "    spi=my_list[v:]\n",
    "    loh=my_list[d:v]\n",
    "    spin=dict(zip(spi,lolka))\n",
    "    \n",
    "    v=v-1\n",
    "    c=c-1\n",
    "    d=d-1\n",
    "    x=x+1\n",
    "\n",
    "    hover={str(loh):spin}\n",
    "    \n",
    "    \n",
    "    print(hover)"
   ]
  },
  {
   "cell_type": "code",
   "execution_count": null,
   "metadata": {},
   "outputs": [],
   "source": []
  }
 ],
 "metadata": {
  "kernelspec": {
   "display_name": "Python 3",
   "language": "python",
   "name": "python3"
  },
  "language_info": {
   "codemirror_mode": {
    "name": "ipython",
    "version": 3
   },
   "file_extension": ".py",
   "mimetype": "text/x-python",
   "name": "python",
   "nbconvert_exporter": "python",
   "pygments_lexer": "ipython3",
   "version": "3.8.5"
  }
 },
 "nbformat": 4,
 "nbformat_minor": 4
}
